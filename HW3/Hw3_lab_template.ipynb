{
  "nbformat": 4,
  "nbformat_minor": 0,
  "metadata": {
    "colab": {
      "provenance": [],
      "collapsed_sections": [],
      "include_colab_link": true
    },
    "kernelspec": {
      "name": "python3",
      "display_name": "Python 3"
    },
    "language_info": {
      "name": "python"
    }
  },
  "cells": [
    {
      "cell_type": "markdown",
      "metadata": {
        "id": "view-in-github",
        "colab_type": "text"
      },
      "source": [
        "<a href=\"https://colab.research.google.com/github/smritisrikanth/Machine-Learning/blob/main/HW3/Hw3_lab_template.ipynb\" target=\"_parent\"><img src=\"https://colab.research.google.com/assets/colab-badge.svg\" alt=\"Open In Colab\"/></a>"
      ]
    },
    {
      "cell_type": "markdown",
      "source": [
        "# Homework 3: Lab\n",
        "### 10 points total\n",
        "### Version 1.0"
      ],
      "metadata": {
        "id": "WLzS4q4x_CXH"
      }
    },
    {
      "cell_type": "markdown",
      "source": [
        "Smriti Srikanth (ssrikan2), Hannah Qu (hqu6)"
      ],
      "metadata": {
        "id": "eNRCplBw_IbM"
      }
    },
    {
      "cell_type": "code",
      "source": [
        "import torch\n",
        "import string\n",
        "\n",
        "all_letters = string.ascii_letters + \" .,;'-\"\n",
        "n_letters = len(all_letters)\n",
        "# Find letter index from all_letters, e.g. \"a\" = 0\n",
        "def letterToIndex(letter):\n",
        "    return all_letters.find(letter)\n",
        "\n",
        "# Just for demonstration, turn a letter into a <1 x n_letters> Tensor\n",
        "def letterToTensor(letter):\n",
        "    tensor = torch.zeros(1, n_letters)\n",
        "    tensor[0][letterToIndex(letter)] = 1\n",
        "    return tensor\n",
        "\n",
        "# Turn a line into a <line_length x 1 x n_letters>,\n",
        "# or an array of one-hot letter vectors\n",
        "def nameToTensor(name):\n",
        "    tensor = torch.zeros(len(name), 1, n_letters)\n",
        "    for li, letter in enumerate(name):\n",
        "        tensor[li][0][letterToIndex(letter)] = 1\n",
        "    return tensor"
      ],
      "metadata": {
        "id": "EHuDp_vViF2W"
      },
      "execution_count": 2,
      "outputs": []
    },
    {
      "cell_type": "code",
      "source": [
        "import torch\n",
        "#from utils import *\n",
        "import random\n",
        "import time\n",
        "import pdb\n",
        "import json\n",
        "import math\n",
        "import matplotlib.pyplot as plt\n",
        "\n",
        "n_letters=58\n",
        "n_categories=18\n",
        "n_hidden = 128\n",
        "n_epochs = 200\n",
        "print_every = 5000\n",
        "plot_every = 1000\n",
        "learning_rate = 0.001 # If you set this too high, it might explode. If too low, it might not learn\n",
        "\n",
        "class RNN(torch.nn.Module):\n",
        "    def __init__(self, input_size, hidden_size, output_size):\n",
        "        \"\"\"\n",
        "        Args:\n",
        "            input_shape (int): size of the 1-hot embeddings for each character (this will be 58)\n",
        "            hidden_layer_width (int): number of nodes in the single hidden layer within the model\n",
        "            n_classes (int): number of output classes\n",
        "        \"\"\"\n",
        "        super(RNN, self).__init__()\n",
        "        ### TODO Implement the network architecture\n",
        "\n",
        "        self.input_size = input_size\n",
        "        self.hidden_size = hidden_size\n",
        "        self.output_size = output_size\n",
        "\n",
        "        self.f1 = torch.nn.Linear(input_size+hidden_size, hidden_size, bias = True)\n",
        "        self.f2 = torch.nn.Linear(input_size+hidden_size, output_size, bias = True)\n",
        "        self.g = torch.nn.Softmax()\n",
        "\n",
        "    def forward(self, input, hidden):\n",
        "        \"\"\"Forward function accepts tensor of input data, returns tensor of output data.\n",
        "        Modules defined in constructor are used, along with arbitrary operators on tensors\n",
        "        \"\"\"\n",
        "        \n",
        "        ### TODO Implement the forward function\n",
        "\n",
        "        # input = self.f1(input)\n",
        "        # hidden = self.f2(hidden)\n",
        "        # hidden = self.f3(torch.cat([input,hidden],dim=1))\n",
        "        # g = torch.nn.Softmax()\n",
        "        # output = g(self.f4(hidden))\n",
        "\n",
        "        hidden = self.f1(torch.cat([input,hidden],dim=1))\n",
        "        output = self.g(self.f2(torch.cat([input,hidden],dim=1)))\n",
        "        \n",
        "\n",
        "        #your function will return the output y(t) and hidden h(t) from equation 1 in the docs\n",
        "        return output, hidden \n",
        "\n",
        "    def initHidden(self):\n",
        "        \"\"\"\n",
        "        This function initializes the first hidden state of the RNN as a zero tensor.\n",
        "        \"\"\"\n",
        "        return torch.zeros(1, self.hidden_size)\n",
        "\n",
        "def get_xy_pairs(names):\n",
        "    #TODO \n",
        "    #process the names dict and convert into a list of (x,y) pairs. x is a 1-hot tensor of size (num_characters_in_name, 1, n_letters)\n",
        "    #y is a scalar representing the category of the language, there are 18 languages, assign an index between 0-17 to each language and y represents this index.\n",
        "    #you may make use of the nameToTensor() function in the utils.py file to help you with this function\n",
        "\n",
        "    list_of_pairs = []\n",
        "    categories = {}\n",
        "    y = 0\n",
        "\n",
        "    for language in names.keys():\n",
        "      categories[language] = y\n",
        "      for name in language:\n",
        "        x = nameToTensor(name)\n",
        "        list_of_pairs.append([x,y])\n",
        "      y = y+1\n",
        "\n",
        "    return list_of_pairs\n",
        "\n",
        "def create_train_and_test_set(list_of_pairs):\n",
        "    #TODO \n",
        "    #process the list of (x,y) pairs and split them 80-20 into train and test set\n",
        "    #train_x is a list of name embeddings each of size (num_characters_in_name, 1, n_letters), train_y is the correponding list of language category index. Same for test_x and test_y\n",
        "\n",
        "    random.seed(0)\n",
        "\n",
        "    train_x = []\n",
        "    train_y = []\n",
        "    test_x = []\n",
        "    test_y = []\n",
        "\n",
        "    for pair in list_of_pairs:\n",
        "      if random.randrange(0,10) > 1:\n",
        "        train_x.append(pair[0])\n",
        "        train_y.append(pair[1])\n",
        "      else:\n",
        "        test_x.append(pair[0])\n",
        "        test_y.append(pair[1])\n",
        "\n",
        "    return train_x, train_y, test_x, test_y\n",
        "\n",
        "rnn = RNN(n_letters, n_hidden, n_categories)\n",
        "optimizer = torch.optim.SGD(rnn.parameters(), lr=learning_rate)\n",
        "criterion = torch.nn.CrossEntropyLoss()\n",
        "\n",
        "\n",
        "def train(train_x, train_y):\n",
        "    \"\"\"train_x and train_y are lists with names and correspoonding labels\"\"\"\n",
        "    loss = 0\n",
        "    cel = []\n",
        "    for x, y in zip(train_x, train_y):\n",
        "        hidden = rnn.initHidden()\n",
        "        for i in range(x.size()[0]):\n",
        "            output, hidden = rnn(x[i], hidden)\n",
        "\n",
        "        loss += criterion(torch.log(output), torch.tensor(y).unsqueeze(0)) #the unsqueeze converts the scalar y to a 1D tensor\n",
        "\n",
        "    optimizer.zero_grad()\n",
        "\n",
        "    loss.backward()\n",
        "\n",
        "    optimizer.step()\n",
        "\n",
        "\n",
        "def test(train_x, train_y):\n",
        "    \"\"\"train_x and train_y are lists with names and correspoonding labels\"\"\"\n",
        "    outputs = []\n",
        "    labels = []\n",
        "\n",
        "    loss = 0\n",
        "    with torch.no_grad(): \n",
        "        for x, y in zip(train_x, train_y):\n",
        "            hidden = rnn.initHidden()\n",
        "            for i in range(x.size()[0]):\n",
        "                output, hidden = rnn(x[i], hidden)\n",
        "                outputs.append(output)\n",
        "                labels.append(y)\n",
        "            loss += criterion(torch.log(output), torch.tensor(y).unsqueeze(0)) #the unsqueeze converts the scalar y to a 1D tensor\n",
        "\n",
        "    return [loss, outputs, labels]\n",
        "\n",
        "\n",
        "# Keep track of losses for plotting\n",
        "current_loss = 0\n",
        "all_losses_train = []\n",
        "all_losses_test = []\n",
        "\n",
        "#names is your dataset in python dictionary form. Keys are languages and values are list of words belonging to that language\n",
        "from google.colab import drive\n",
        "drive.mount('/content/drive/', force_remount = True)\n",
        "with open('/content/drive/My Drive/names.json', 'r') as fp:\n",
        "    names = json.load(fp)\n",
        "\n",
        "list_of_pairs = get_xy_pairs(names)\n",
        "train_x, train_y, test_x, test_y = create_train_and_test_set(list_of_pairs)\n",
        "\n",
        "for epoch in range(1, n_epochs + 1):\n",
        "    train(train_x, train_y)\n",
        "    current_loss = test(train_x, train_y)[0]\n",
        "    all_losses_train.append(current_loss)\n",
        "    current_loss = test(test_x, test_y)[0]\n",
        "    all_losses_test.append(current_loss)\n",
        "    outputs = test(test_x, test_y)[1]\n",
        "    labels = test(test_x, test_y)[2]\n",
        "    \n",
        "\n",
        "\n",
        "#saving your model\n",
        "torch.save(rnn, 'rnn.pt')"
      ],
      "metadata": {
        "id": "FSM_dhviiJ9D",
        "outputId": "441979d3-6ca2-4da3-916b-5e4caaab0f81",
        "colab": {
          "base_uri": "https://localhost:8080/"
        }
      },
      "execution_count": 22,
      "outputs": [
        {
          "output_type": "stream",
          "name": "stdout",
          "text": [
            "Mounted at /content/drive/\n"
          ]
        },
        {
          "output_type": "stream",
          "name": "stderr",
          "text": [
            "/usr/local/lib/python3.7/dist-packages/ipykernel_launcher.py:51: UserWarning: Implicit dimension choice for softmax has been deprecated. Change the call to include dim=X as an argument.\n"
          ]
        }
      ]
    },
    {
      "cell_type": "markdown",
      "source": [
        "Instructions: This notebook is intended to for answering the questions in the HW3_Programming pdf. You will answer in the space provided."
      ],
      "metadata": {
        "id": "WrZhGNVU_KHD"
      }
    },
    {
      "cell_type": "markdown",
      "source": [
        "1) (2 points) Plot the Cross-entropy vs. epoch curve for both the training data and the testing data. Do you see over-fitting?"
      ],
      "metadata": {
        "id": "vSIog697_Yj5"
      }
    },
    {
      "cell_type": "code",
      "execution_count": 26,
      "metadata": {
        "id": "FF0riaCN9Fzr",
        "outputId": "4a95135e-950c-4d91-9b5a-c7fecb8fc81c",
        "colab": {
          "base_uri": "https://localhost:8080/",
          "height": 283
        }
      },
      "outputs": [
        {
          "output_type": "execute_result",
          "data": {
            "text/plain": [
              "<matplotlib.legend.Legend at 0x7fa395c454d0>"
            ]
          },
          "metadata": {},
          "execution_count": 26
        },
        {
          "output_type": "display_data",
          "data": {
            "text/plain": [
              "<Figure size 432x288 with 1 Axes>"
            ],
            "image/png": "[encoded data removed]"
          },
          "metadata": {
            "needs_background": "light"
          }
        }
      ],
      "source": [
        "#TODO plot\n",
        "\n",
        "plt.plot(all_losses_train, label = 'train')\n",
        "plt.plot(all_losses_test, label = 'test')\n",
        "plt.legend()"
      ]
    },
    {
      "cell_type": "markdown",
      "source": [
        "Overfitting is not seen here, since the error is much larger for the training data than for the testing data."
      ],
      "metadata": {
        "id": "-jPPWBdLeHRX"
      }
    },
    {
      "cell_type": "markdown",
      "source": [
        "2) (4 points) Plot a confusion matrix for the test set for all the 18 languages.  What can you infer from it? What languages are confused the most?"
      ],
      "metadata": {
        "id": "TNI1BpWD_fjJ"
      }
    },
    {
      "cell_type": "code",
      "source": [
        "#TODO, your plot and some discussion on the plot\n",
        "import numpy as np\n",
        "import seaborn as sns\n",
        "from sklearn.preprocessing import normalize\n",
        "\n",
        "y = 0\n",
        "categories = {}\n",
        "for language in names.keys():\n",
        "      categories[y] = language\n",
        "      y = y+1\n",
        "\n",
        "matrix = np.zeros([18,18])\n",
        "\n",
        "for i in range (len(outputs)):\n",
        "    matrix[labels[i]][np.argmax(np.array(outputs[i]))] += 1\n",
        "\n",
        "normalized_matrix = normalize(matrix,axis=1,norm='l1')\n",
        "\n",
        "for i in range (18):\n",
        "  for j in range(18):\n",
        "    if normalized_matrix[i][j] > 0:\n",
        "      print(normalized_matrix[i][j], categories[i], categories[j])\n",
        "\n",
        "sns.heatmap(normalized_matrix)\n",
        "plt.show()"
      ],
      "metadata": {
        "id": "8GOW9Ve4AQ-E",
        "colab": {
          "base_uri": "https://localhost:8080/",
          "height": 626
        },
        "outputId": "8db4882a-0f1d-4dfe-b7a6-20a0c2d68fed"
      },
      "execution_count": 18,
      "outputs": [
        {
          "output_type": "stream",
          "name": "stdout",
          "text": [
            "1.0 Czech Vietnamese\n",
            "1.0 Arabic Scottish\n",
            "1.0 Japanese Vietnamese\n",
            "1.0 Chinese Vietnamese\n",
            "1.0 Vietnamese Vietnamese\n",
            "1.0 Russian Vietnamese\n",
            "1.0 French Portuguese\n",
            "0.5 Irish Vietnamese\n",
            "0.5 Irish Scottish\n",
            "1.0 English Italian\n",
            "1.0 Spanish Vietnamese\n",
            "1.0 Greek Vietnamese\n",
            "0.25 Portuguese Vietnamese\n",
            "0.25 Portuguese English\n",
            "0.25 Portuguese Portuguese\n",
            "0.25 Portuguese Scottish\n",
            "1.0 Scottish Vietnamese\n",
            "0.5 Korean Vietnamese\n",
            "0.5 Korean Portuguese\n",
            "1.0 Polish Scottish\n"
          ]
        },
        {
          "output_type": "display_data",
          "data": {
            "text/plain": [
              "<Figure size 432x288 with 2 Axes>"
            ],
            "image/png": "[encoded data removed]"
          },
          "metadata": {
            "needs_background": "light"
          }
        }
      ]
    },
    {
      "cell_type": "markdown",
      "source": [
        "The confusion matrix displays that while the model performs relatively well, there are a few languages that are much more difficult to identify than others. Vietnamese appears to be the most confusing language, closely followed by Scottish and Portugese."
      ],
      "metadata": {
        "id": "S6wn684OeU3Y"
      }
    },
    {
      "cell_type": "markdown",
      "source": [
        "(3) (4 points) So far you randomly split the dataset uniformly at random into an 80:20 partition. However, this could mean unbalanced training data since all languages might not have the same number of names in the training set. This could in turn adversely affect performance. Could you think of some way of mitigating this? Can you choose to split the dataset more intelligently? Implement your idea (you are free to use existing functions from scikit-learn or any other python library for this) and report differences in accuracy with your new method over the previous uniformly at random partition."
      ],
      "metadata": {
        "id": "YOzAGfweAWld"
      }
    },
    {
      "cell_type": "markdown",
      "source": [
        "This could be mitigated by using bootstrapping (repeated sampling) to increase the size of the training set for each language, as well as ensure a training set of equal size for each language. The implementation of this below clearly results in the training loss decreasing more over time, as well as the actual values of the testing loss being much lower."
      ],
      "metadata": {
        "id": "y9ThOh_bfA9C"
      }
    },
    {
      "cell_type": "code",
      "source": [
        "#TODO, your answer\n",
        "\n",
        "import torch\n",
        "#from utils import *\n",
        "import random\n",
        "import time\n",
        "import pdb\n",
        "import json\n",
        "import math\n",
        "import matplotlib.pyplot as plt\n",
        "from sklearn.model_selection import train_test_split\n",
        "from sklearn.utils import resample\n",
        "\n",
        "n_letters=58\n",
        "n_categories=18\n",
        "n_hidden = 128\n",
        "n_epochs = 200\n",
        "print_every = 5000\n",
        "plot_every = 1000\n",
        "learning_rate = 0.001 # If you set this too high, it might explode. If too low, it might not learn\n",
        "\n",
        "class RNN(torch.nn.Module):\n",
        "    def __init__(self, input_size, hidden_size, output_size):\n",
        "        \"\"\"\n",
        "        Args:\n",
        "            input_shape (int): size of the 1-hot embeddings for each character (this will be 58)\n",
        "            hidden_layer_width (int): number of nodes in the single hidden layer within the model\n",
        "            n_classes (int): number of output classes\n",
        "        \"\"\"\n",
        "        super(RNN, self).__init__()\n",
        "        ### TODO Implement the network architecture\n",
        "\n",
        "        self.input_size = input_size\n",
        "        self.hidden_size = hidden_size\n",
        "        self.output_size = output_size\n",
        "\n",
        "        self.f1 = torch.nn.Linear(input_size+hidden_size, hidden_size, bias = True)\n",
        "        self.f2 = torch.nn.Linear(input_size+hidden_size, output_size, bias = True)\n",
        "        self.g = torch.nn.Softmax()\n",
        "\n",
        "    def forward(self, input, hidden):\n",
        "        \"\"\"Forward function accepts tensor of input data, returns tensor of output data.\n",
        "        Modules defined in constructor are used, along with arbitrary operators on tensors\n",
        "        \"\"\"\n",
        "        \n",
        "        ### TODO Implement the forward function\n",
        "\n",
        "        # input = self.f1(input)\n",
        "        # hidden = self.f2(hidden)\n",
        "        # hidden = self.f3(torch.cat([input,hidden],dim=1))\n",
        "        # g = torch.nn.Softmax()\n",
        "        # output = g(self.f4(hidden))\n",
        "\n",
        "        hidden = self.f1(torch.cat([input,hidden],dim=1))\n",
        "        output = self.g(self.f2(torch.cat([input,hidden],dim=1)))\n",
        "        \n",
        "\n",
        "        #your function will return the output y(t) and hidden h(t) from equation 1 in the docs\n",
        "        return output, hidden \n",
        "\n",
        "    def initHidden(self):\n",
        "        \"\"\"\n",
        "        This function initializes the first hidden state of the RNN as a zero tensor.\n",
        "        \"\"\"\n",
        "        return torch.zeros(1, self.hidden_size)\n",
        "\n",
        "def get_xy_pairs(names):\n",
        "    #TODO \n",
        "    #process the names dict and convert into a list of (x,y) pairs. x is a 1-hot tensor of size (num_characters_in_name, 1, n_letters)\n",
        "    #y is a scalar representing the category of the language, there are 18 languages, assign an index between 0-17 to each language and y represents this index.\n",
        "    #you may make use of the nameToTensor() function in the utils.py file to help you with this function\n",
        "\n",
        "    list_of_pairs = []\n",
        "    categories = {}\n",
        "    y = 0\n",
        "\n",
        "    for language in names.keys():\n",
        "      categories[language] = y\n",
        "      for name in language:\n",
        "        x = nameToTensor(name)\n",
        "        list_of_pairs.append([x,y])\n",
        "      y = y+1\n",
        "\n",
        "    return list_of_pairs\n",
        "\n",
        "def create_train_and_test_set(list_of_pairs):\n",
        "    #TODO \n",
        "    #process the list of (x,y) pairs and split them 80-20 into train and test set\n",
        "    #train_x is a list of name embeddings each of size (num_characters_in_name, 1, n_letters), train_y is the correponding list of language category index. Same for test_x and test_y\n",
        "\n",
        "    random.seed(0)\n",
        "\n",
        "    full_train_x = []\n",
        "    full_train_y = []\n",
        "    full_test_x = []\n",
        "    full_test_y = []\n",
        "\n",
        "    i = 0\n",
        "    curr = []\n",
        "    curr_train = []\n",
        "    curr_test = []\n",
        "    for pair in list_of_pairs:\n",
        "      if pair[1] == i:\n",
        "        curr.append(pair)\n",
        "      else:\n",
        "        i += 1\n",
        "        for p in curr:\n",
        "          if random.randrange(0,10) > 1:\n",
        "            curr_train.append(p)\n",
        "          else:\n",
        "            curr_test.append(p)\n",
        "        curr_train = resample(curr_train, n_samples = 100)\n",
        "        for p in curr_train:\n",
        "          full_train_x.append(p[0])\n",
        "          full_train_y.append(p[1])\n",
        "        for p in curr_test:\n",
        "          full_test_x.append(p[0])\n",
        "          full_test_y.append(p[1])\n",
        "        curr_train = []\n",
        "        curr_test = []\n",
        "        curr = []\n",
        "        curr.append(pair)\n",
        "      # if pair[1] == i:\n",
        "      #   curr_x.append(pair[0])\n",
        "      #   curr_y.append(pair[1])\n",
        "      # else:\n",
        "\n",
        "      #   train_x, test_x, train_y, test_y = train_test_split(curr_x,curr_y,test_size = 0.2)\n",
        "      #   curr_x = []\n",
        "      #   curr_y = []\n",
        "      #   curr_x.append(pair[0])\n",
        "      #   curr_y.append(pair[1])\n",
        "      #   i += 1\n",
        "      #   full_train_x += train_x\n",
        "      #   full_train_y.append(train_y)\n",
        "      #   full_test_x.append(test_x)\n",
        "      #   full_test_y.append(test_y)\n",
        "\n",
        "    return full_train_x, full_train_y, full_test_x, full_test_y\n",
        "\n",
        "rnn = RNN(n_letters, n_hidden, n_categories)\n",
        "optimizer = torch.optim.SGD(rnn.parameters(), lr=learning_rate)\n",
        "criterion = torch.nn.NLLLoss()\n",
        "\n",
        "def train(train_x, train_y):\n",
        "    \"\"\"train_x and train_y are lists with names and correspoonding labels\"\"\"\n",
        "    loss = 0\n",
        "    cel = []\n",
        "    for x, y in zip(train_x, train_y):\n",
        "        hidden = rnn.initHidden()\n",
        "        for i in range(x.size()[0]):\n",
        "            output, hidden = rnn(x[i], hidden)\n",
        "\n",
        "        loss += criterion(torch.log(output), torch.tensor(y).unsqueeze(0)) #the unsqueeze converts the scalar y to a 1D tensor\n",
        "\n",
        "    optimizer.zero_grad()\n",
        "\n",
        "    loss.backward()\n",
        "\n",
        "    optimizer.step()\n",
        "\n",
        "\n",
        "def test(train_x, train_y):\n",
        "    \"\"\"train_x and train_y are lists with names and correspoonding labels\"\"\"\n",
        "    outputs = []\n",
        "    labels = []\n",
        "\n",
        "    loss = 0\n",
        "    with torch.no_grad(): \n",
        "        for x, y in zip(train_x, train_y):\n",
        "            hidden = rnn.initHidden()\n",
        "            for i in range(x.size()[0]):\n",
        "                output, hidden = rnn(x[i], hidden)\n",
        "                outputs.append(output)\n",
        "                labels.append(y)\n",
        "            loss += criterion(torch.log(output), torch.tensor(y).unsqueeze(0)) #the unsqueeze converts the scalar y to a 1D tensor\n",
        "\n",
        "    return [loss, outputs, labels]\n",
        "\n",
        "\n",
        "# Keep track of losses for plotting\n",
        "current_loss = 0\n",
        "all_losses_train = []\n",
        "all_losses_test = []\n",
        "y_pred = []\n",
        "\n",
        "#names is your dataset in python dictionary form. Keys are languages and values are list of words belonging to that language\n",
        "from google.colab import drive\n",
        "drive.mount('/content/drive/', force_remount = True)\n",
        "with open('/content/drive/My Drive/names.json', 'r') as fp:\n",
        "    names = json.load(fp)\n",
        "\n",
        "list_of_pairs = get_xy_pairs(names)\n",
        "train_x, train_y, test_x, test_y = create_train_and_test_set(list_of_pairs)\n",
        "\n",
        "for epoch in range(1, n_epochs + 1):\n",
        "    train(train_x, train_y)\n",
        "    current_loss = test(train_x, train_y)[0]\n",
        "    all_losses_train.append(current_loss)\n",
        "    current_loss = test(test_x, test_y)[0]\n",
        "    all_losses_test.append(current_loss)\n",
        "    outputs = test(test_x, test_y)[1]\n",
        "    labels = test(test_x, test_y)[2]\n",
        "    \n",
        "\n",
        "\n",
        "#saving your model\n",
        "torch.save(rnn, 'rnn.pt')\n",
        "\n",
        "plt.plot(all_losses_train, label = 'train')\n",
        "plt.plot(all_losses_test, label = 'test')\n",
        "plt.legend()"
      ],
      "metadata": {
        "id": "Qm-qRW0xAViE",
        "colab": {
          "base_uri": "https://localhost:8080/",
          "height": 339
        },
        "outputId": "a68975f8-d430-4b40-e0ef-5cb24b5abba5"
      },
      "execution_count": 4,
      "outputs": [
        {
          "output_type": "stream",
          "name": "stdout",
          "text": [
            "Mounted at /content/drive/\n"
          ]
        },
        {
          "output_type": "stream",
          "name": "stderr",
          "text": [
            "/usr/local/lib/python3.7/dist-packages/ipykernel_launcher.py:55: UserWarning: Implicit dimension choice for softmax has been deprecated. Change the call to include dim=X as an argument.\n"
          ]
        },
        {
          "output_type": "execute_result",
          "data": {
            "text/plain": [
              "<matplotlib.legend.Legend at 0x7f0668c54250>"
            ]
          },
          "metadata": {},
          "execution_count": 4
        },
        {
          "output_type": "display_data",
          "data": {
            "text/plain": [
              "<Figure size 432x288 with 1 Axes>"
            ],
            "image/png": "[encoded data removed]"
          },
          "metadata": {
            "needs_background": "light"
          }
        }
      ]
    }
  ]
}